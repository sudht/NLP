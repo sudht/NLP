{
  "nbformat": 4,
  "nbformat_minor": 0,
  "metadata": {
    "colab": {
      "name": "week5_practice.ipynb",
      "provenance": [],
      "collapsed_sections": [],
      "include_colab_link": true
    },
    "kernelspec": {
      "name": "python3",
      "display_name": "Python 3"
    }
  },
  "cells": [
    {
      "cell_type": "markdown",
      "metadata": {
        "id": "view-in-github",
        "colab_type": "text"
      },
      "source": [
        "<a href=\"https://colab.research.google.com/github/sudht/NLP/blob/master/week5_practice.ipynb\" target=\"_parent\"><img src=\"https://colab.research.google.com/assets/colab-badge.svg\" alt=\"Open In Colab\"/></a>"
      ]
    },
    {
      "cell_type": "code",
      "metadata": {
        "id": "5o0lh-JLURY7",
        "colab_type": "code",
        "outputId": "bf300e83-9124-4c4c-ee5e-f82e58a56a87",
        "colab": {
          "base_uri": "https://localhost:8080/",
          "height": 35
        }
      },
      "source": [
        "from google.colab import drive\n",
        "drive.mount(\"/gdrive\", force_remount=True)"
      ],
      "execution_count": 1,
      "outputs": [
        {
          "output_type": "stream",
          "text": [
            "Mounted at /gdrive\n"
          ],
          "name": "stdout"
        }
      ]
    },
    {
      "cell_type": "markdown",
      "metadata": {
        "id": "YYKwldBwVXIW",
        "colab_type": "text"
      },
      "source": [
        "<h2> 1.   개인 구글 드라이브와 colab 연동 </h2>"
      ]
    },
    {
      "cell_type": "code",
      "metadata": {
        "id": "WwzrDnJYmV3Z",
        "colab_type": "code",
        "outputId": "a9843fdd-52dc-4d62-9ebd-48874f1ae753",
        "colab": {
          "base_uri": "https://localhost:8080/",
          "height": 107
        }
      },
      "source": [
        "!pip install sklearn-crfsuite"
      ],
      "execution_count": 2,
      "outputs": [
        {
          "output_type": "stream",
          "text": [
            "Requirement already satisfied: sklearn-crfsuite in /usr/local/lib/python3.6/dist-packages (0.3.6)\n",
            "Requirement already satisfied: tqdm>=2.0 in /usr/local/lib/python3.6/dist-packages (from sklearn-crfsuite) (4.28.1)\n",
            "Requirement already satisfied: six in /usr/local/lib/python3.6/dist-packages (from sklearn-crfsuite) (1.12.0)\n",
            "Requirement already satisfied: tabulate in /usr/local/lib/python3.6/dist-packages (from sklearn-crfsuite) (0.8.3)\n",
            "Requirement already satisfied: python-crfsuite>=0.8.3 in /usr/local/lib/python3.6/dist-packages (from sklearn-crfsuite) (0.9.6)\n"
          ],
          "name": "stdout"
        }
      ]
    },
    {
      "cell_type": "markdown",
      "metadata": {
        "id": "junjuA4pVM5n",
        "colab_type": "text"
      },
      "source": [
        "<h2> 1.   라이브러리 설치 </h2>"
      ]
    },
    {
      "cell_type": "code",
      "metadata": {
        "id": "0VJD-PF6dYfb",
        "colab_type": "code",
        "outputId": "032864ef-3385-4061-e116-713a26e4dd80",
        "colab": {
          "base_uri": "https://localhost:8080/",
          "height": 125
        }
      },
      "source": [
        "import os\n",
        "import sklearn_crfsuite\n",
        "from sklearn_crfsuite import metrics\n",
        "\n",
        "\n",
        "# 파일 경로\n",
        "file_path = \"/gdrive/My Drive/colab/week 5/spacing_data.txt\"\n",
        "\n",
        "# \"spacing_data.txt\" 파일을 읽고 lines에 읽은 데이터를 저장\n",
        "with open(file_path, \"r\", encoding=\"utf8\") as inFile:\n",
        "    lines = inFile.readlines()\n",
        "\n",
        "# 데이터를 음절로 이루어진 문장과 정답 값으로 나누어 저장\n",
        "datas = []\n",
        "for line in lines:\n",
        "    pieces = line.strip().split(\"\\t\")\n",
        "    eumjeol_sequence, label = pieces[0].split(), pieces[1].split()\n",
        "    datas.append((eumjeol_sequence, label))\n",
        "    \n",
        "number_of_total_datas = len(datas)\n",
        "number_of_train_datas = int(number_of_total_datas*0.9)\n",
        "number_of_test_datas = number_of_total_datas-number_of_train_datas\n",
        "\n",
        "print(\"전체 데이터 개수 : \" + str(number_of_total_datas))\n",
        "print(\"학습 데이터 개수 : \" + str(number_of_train_datas))\n",
        "print(\"평가 데이터 개수 : \" + str(number_of_test_datas))\n",
        "print()\n",
        "\n",
        "train_datas, test_datas = [], []\n",
        "for index, data in enumerate(datas):\n",
        "    if(index < number_of_train_datas):\n",
        "        train_datas.append(data)\n",
        "    else:\n",
        "        test_datas.append(data)\n",
        "          \n",
        "print(\"train_datas 개수 : \" + str(len(train_datas)))          \n",
        "print(\"test_datas 개수 : \" + str(len(test_datas)))"
      ],
      "execution_count": 3,
      "outputs": [
        {
          "output_type": "stream",
          "text": [
            "전체 데이터 개수 : 1000\n",
            "학습 데이터 개수 : 900\n",
            "평가 데이터 개수 : 100\n",
            "\n",
            "train_datas 개수 : 900\n",
            "test_datas 개수 : 100\n"
          ],
          "name": "stdout"
        }
      ]
    },
    {
      "cell_type": "markdown",
      "metadata": {
        "id": "kUf7YKTATa8G",
        "colab_type": "text"
      },
      "source": [
        "<pre>\n",
        "<h2> 1. \"spacing_data.txt\"로 부터 데이터를 읽고 datas에 저장 </h2>\n",
        "  1.1 입력 데이터 형태\n",
        "    예시) 나 는 사 과 가 좋 아 tab B I B I I B I\n",
        "    \n",
        "    \"나는 사과가 좋아\" 라는 문장이 있을 때, 공백을 기준으로 나눈 \"나는\", \"사과가\", \"좋아\"를 각각 어절이라고 함\n",
        "    각 어절의 시작음절을 \"B\"로 나머지를 \"I\"로 태깅하였고 문장과 라벨을 탭으로 구분해놓은 상태\n",
        "\n",
        "  1.2 데이터 변환\n",
        "\n",
        "    입력 데이터를 읽고 탭을 기준으로 문장과 라벨을 분리\n",
        "    문장을 공백을 기준으로 나눈다\n",
        "      예시)\"나 는 사 과 가 좋 아\" -> [\"나\", \"는\", \"사\", \"과\", \"가\", \"좋\", \"아\"]\n",
        "    문장과 라벨을 튜플형태로 datas 리스트에 넣는다\n",
        "    datas = [ ( [\"나\", \"는\", \"사\", \"과\", \"가\", \"좋\", \"아\"], [\"B\", \"I\", \"B\", \"I\", \"I\", \"B\", \"I\"] ), ( ... ), ... ]\n",
        "    \n",
        "<h2> 2. 전체 데이터를 9:1 비율에 맞추어 학습, 평가 데이터로 나누기 </h2>\n",
        "  2.1 train_datas 리스트와 test_datas 리스트에 나누어 저장\n",
        "</pre>"
      ]
    },
    {
      "cell_type": "code",
      "metadata": {
        "id": "UHfwBbtqSgAx",
        "colab_type": "code",
        "colab": {
          "base_uri": "https://localhost:8080/",
          "height": 109
        },
        "outputId": "fde68a16-8dac-4b72-bcdf-d5c23bb7e28b"
      },
      "source": [
        "# sent2feature 함수 구현하기\n",
        "def sent2feature(eumjeol_sequence):\n",
        "  diclist = []\n",
        "  lastIndex = len(eumjeol_sequence)\n",
        "  for index, word in enumerate(eumjeol_sequence):\n",
        "    dic = {\"BOS\": False, \"EOS\": False, \"WORD\": word, \"IS_DIGIT\": word.isdigit()}\n",
        "    \n",
        "    # BOS, EOS\n",
        "    if index == 0:\n",
        "      dic[\"BOS\"] = True\n",
        "    elif index == lastIndex-1:\n",
        "      dic[\"EOS\"] = True\n",
        "    \n",
        "    # -2_WORD, -1_WORD\n",
        "    if index-1 >= 0:\n",
        "      if index-2 >= 0:\n",
        "        dic[\"-2_WORD\"] = eumjeol_sequence[index-2]\n",
        "      dic[\"-1_WORD\"] = eumjeol_sequence[index-1]\n",
        "      \n",
        "    # +2_WORD, +1_WORD\n",
        "    if index+1 <= lastIndex-1:\n",
        "      if index+2 <= lastIndex-1:\n",
        "        dic[\"+2_WORD\"] = eumjeol_sequence[index+2]\n",
        "      dic[\"+1_WORD\"] = eumjeol_sequence[index+1]\n",
        "       \n",
        "    diclist.append(dic)\n",
        "  #print(diclist)\n",
        "  return diclist;\n",
        "  \n",
        "# train\n",
        "train_x, train_y = [], []\n",
        "for eumjeol_sequence, label in train_datas:\n",
        "  train_x.append(sent2feature(eumjeol_sequence))\n",
        "  train_y.append(label)\n",
        "  \n",
        "print(len(train_x[0]))\n",
        "print(len(train_y[0]))\n",
        "\n",
        "print(train_x[0])\n",
        "print(train_y[0])\n",
        "\n",
        "test_x, test_y = [], []\n",
        "for eumjeol_sequence, label in test_datas:\n",
        "  test_x.append(sent2feature(eumjeol_sequence))\n",
        "  test_y.append(label)"
      ],
      "execution_count": 11,
      "outputs": [
        {
          "output_type": "stream",
          "text": [
            "27\n",
            "27\n",
            "[{'BOS': True, 'EOS': False, 'WORD': '약', 'IS_DIGIT': False, '+2_WORD': '장', '+1_WORD': '속'}, {'BOS': False, 'EOS': False, 'WORD': '속', 'IS_DIGIT': False, '-1_WORD': '약', '+2_WORD': '소', '+1_WORD': '장'}, {'BOS': False, 'EOS': False, 'WORD': '장', 'IS_DIGIT': False, '-2_WORD': '약', '-1_WORD': '속', '+2_WORD': '인', '+1_WORD': '소'}, {'BOS': False, 'EOS': False, 'WORD': '소', 'IS_DIGIT': False, '-2_WORD': '속', '-1_WORD': '장', '+2_WORD': '신', '+1_WORD': '인'}, {'BOS': False, 'EOS': False, 'WORD': '인', 'IS_DIGIT': False, '-2_WORD': '장', '-1_WORD': '소', '+2_WORD': '라', '+1_WORD': '신'}, {'BOS': False, 'EOS': False, 'WORD': '신', 'IS_DIGIT': False, '-2_WORD': '소', '-1_WORD': '인', '+2_WORD': '호', '+1_WORD': '라'}, {'BOS': False, 'EOS': False, 'WORD': '라', 'IS_DIGIT': False, '-2_WORD': '인', '-1_WORD': '신', '+2_WORD': '텔', '+1_WORD': '호'}, {'BOS': False, 'EOS': False, 'WORD': '호', 'IS_DIGIT': False, '-2_WORD': '신', '-1_WORD': '라', '+2_WORD': '커', '+1_WORD': '텔'}, {'BOS': False, 'EOS': False, 'WORD': '텔', 'IS_DIGIT': False, '-2_WORD': '라', '-1_WORD': '호', '+2_WORD': '피', '+1_WORD': '커'}, {'BOS': False, 'EOS': False, 'WORD': '커', 'IS_DIGIT': False, '-2_WORD': '호', '-1_WORD': '텔', '+2_WORD': '숍', '+1_WORD': '피'}, {'BOS': False, 'EOS': False, 'WORD': '피', 'IS_DIGIT': False, '-2_WORD': '텔', '-1_WORD': '커', '+2_WORD': '에', '+1_WORD': '숍'}, {'BOS': False, 'EOS': False, 'WORD': '숍', 'IS_DIGIT': False, '-2_WORD': '커', '-1_WORD': '피', '+2_WORD': '재', '+1_WORD': '에'}, {'BOS': False, 'EOS': False, 'WORD': '에', 'IS_DIGIT': False, '-2_WORD': '피', '-1_WORD': '숍', '+2_WORD': '옥', '+1_WORD': '재'}, {'BOS': False, 'EOS': False, 'WORD': '재', 'IS_DIGIT': False, '-2_WORD': '숍', '-1_WORD': '에', '+2_WORD': '이', '+1_WORD': '옥'}, {'BOS': False, 'EOS': False, 'WORD': '옥', 'IS_DIGIT': False, '-2_WORD': '에', '-1_WORD': '재', '+2_WORD': '먼', '+1_WORD': '이'}, {'BOS': False, 'EOS': False, 'WORD': '이', 'IS_DIGIT': False, '-2_WORD': '재', '-1_WORD': '옥', '+2_WORD': '저', '+1_WORD': '먼'}, {'BOS': False, 'EOS': False, 'WORD': '먼', 'IS_DIGIT': False, '-2_WORD': '옥', '-1_WORD': '이', '+2_WORD': '와', '+1_WORD': '저'}, {'BOS': False, 'EOS': False, 'WORD': '저', 'IS_DIGIT': False, '-2_WORD': '이', '-1_WORD': '먼', '+2_WORD': '기', '+1_WORD': '와'}, {'BOS': False, 'EOS': False, 'WORD': '와', 'IS_DIGIT': False, '-2_WORD': '먼', '-1_WORD': '저', '+2_WORD': '다', '+1_WORD': '기'}, {'BOS': False, 'EOS': False, 'WORD': '기', 'IS_DIGIT': False, '-2_WORD': '저', '-1_WORD': '와', '+2_WORD': '리', '+1_WORD': '다'}, {'BOS': False, 'EOS': False, 'WORD': '다', 'IS_DIGIT': False, '-2_WORD': '와', '-1_WORD': '기', '+2_WORD': '고', '+1_WORD': '리'}, {'BOS': False, 'EOS': False, 'WORD': '리', 'IS_DIGIT': False, '-2_WORD': '기', '-1_WORD': '다', '+2_WORD': '있', '+1_WORD': '고'}, {'BOS': False, 'EOS': False, 'WORD': '고', 'IS_DIGIT': False, '-2_WORD': '다', '-1_WORD': '리', '+2_WORD': '었', '+1_WORD': '있'}, {'BOS': False, 'EOS': False, 'WORD': '있', 'IS_DIGIT': False, '-2_WORD': '리', '-1_WORD': '고', '+2_WORD': '다', '+1_WORD': '었'}, {'BOS': False, 'EOS': False, 'WORD': '었', 'IS_DIGIT': False, '-2_WORD': '고', '-1_WORD': '있', '+2_WORD': '.', '+1_WORD': '다'}, {'BOS': False, 'EOS': False, 'WORD': '다', 'IS_DIGIT': False, '-2_WORD': '있', '-1_WORD': '었', '+1_WORD': '.'}, {'BOS': False, 'EOS': True, 'WORD': '.', 'IS_DIGIT': False, '-2_WORD': '었', '-1_WORD': '다'}]\n",
            "['B', 'I', 'B', 'I', 'I', 'B', 'I', 'I', 'I', 'B', 'I', 'I', 'I', 'B', 'I', 'I', 'B', 'I', 'B', 'B', 'I', 'I', 'I', 'B', 'I', 'I', 'I']\n"
          ],
          "name": "stdout"
        }
      ]
    },
    {
      "cell_type": "markdown",
      "metadata": {
        "id": "SoVhuFogkT36",
        "colab_type": "text"
      },
      "source": [
        "<pre>\n",
        "<h2> 1. 문장의 각 음절을 crf 모델의 입력으로 사용 할 수 있도록 자질화 </h2>\n",
        "  \"BOS\" : 시작 음절인지 여부\n",
        "  \"EOS\" : 마지막 음절인지 여부\n",
        "  \"WORD\" : 기준 음절\n",
        "  \"IS_DIGIT\" : 기준 음절이 숫자인지 여부\n",
        "  \"-1_WORD\" : 기준 음절의 왼쪽 첫번째 음절\n",
        "  \"-2_WORD\" : 기준 음절의 왼쪽 두번째 음절\n",
        "  \"+1_WORD\" : 기준 음절의 오른쪽 첫번째 음절\n",
        "  \"+2_WORD\" : 기준 음절의 오른쪽 두번째 음절\n",
        "\n",
        "  1.1 예시) [\"나\", \"는\", \"사\", \"과\", \"가\", \"좋\", \"아\"]\n",
        "            ->\n",
        "            [ { \"BOS\":True, \"EOS\":False, \"WORD\":\"나\", \"IS_DIGIT\":False, \"+1_WORD\":\"는\", \"+2_WORD\":\"사\" },\n",
        "    { \"BOS\":False, \"EOS\":False, \"WORD\":\"는\", \"IS_DIGIT\":False, \"-1_WORD\":\"나\", \"+1_WORD\":\"사\", \"+2_WORD\":\"과\" },\n",
        "    { \"BOS\":False, \"EOS\":False, \"WORD\":\"사\", \"IS_DIGIT\":False, \"-2_WORD\":\"나\", \"-1_WORD\":\"는\", \"+1_WORD\":\"과\", \"+2_WORD\":\"가\" }, ... ]\n",
        "  \n",
        "    나 -> { \"BOS\":True, \"EOS\":False, \"WORD\":\"나\", \"IS_DIGIT\":False, \"+1_WORD\":\"는\", \"+2_WORD\":\"사\" }\n",
        "    는 -> { \"BOS\":False, \"EOS\":False, \"WORD\":\"는\", \"IS_DIGIT\":False, \"-1_WORD\":\"나\", \"+1_WORD\":\"사\", \"+2_WORD\":\"과\" }\n",
        "    사 -> { \"BOS\":False, \"EOS\":False, \"WORD\":\"사\", \"IS_DIGIT\":False, \"-2_WORD\":\"나\", \"-1_WORD\":\"는\", \"+1_WORD\":\"과\", \"+2_WORD\":\"가\" }\n",
        "    과 -> { \"BOS\":False, \"EOS\":False, \"WORD\":\"과\", \"IS_DIGIT\":False, \"-2_WORD\":\"는\", \"-1_WORD\":\"사\", \"+1_WORD\":\"가\", \"+2_WORD\":\"좋\" }\n",
        "    가 -> { \"BOS\":False, \"EOS\":False, \"WORD\":\"가\", \"IS_DIGIT\":False, \"-2_WORD\":\"사\", \"-1_WORD\":\"과\", \"+1_WORD\":\"좋\", \"+2_WORD\":\"아\" }\n",
        "    좋 -> { \"BOS\":False, \"EOS\":False, \"WORD\":\"좋\", \"IS_DIGIT\":False, \"-2_WORD\":\"과\", \"-1_WORD\":\"가\", \"+1_WORD\":\"아\" }\n",
        "    아 -> { \"BOS\":False, \"EOS\":True, \"WORD\":\"아\", \"IS_DIGIT\":False, \"-2_WORD\":\"가\", \"-1_WORD\":\"좋\" }\n",
        "<h2> 2. 자질화한 데이터와 해당 데이터의 라벨을 분리하여 각 리스트에 저장 </h2>\n",
        "  학습 데이터 -> train_x(자질화한 데이터), train_y(각 데이터의 정답 라벨)에 저장\n",
        "  평가 데이터 -> test_x(자질화한 데이터), test_y(각 데이터의 정답 라벨)에 저장\n",
        "  \n",
        "  2.1 예시)\n",
        "    train_x -> [\n",
        "    \n",
        "    [ { \"BOS\":True, \"EOS\":False, \"WORD\":\"나\", \"IS_DIGIT\":False, \"+1_WORD\":\"는\", \"+2_WORD\":\"사\" },\n",
        "    { \"BOS\":False, \"EOS\":False, \"WORD\":\"는\", \"IS_DIGIT\":False, \"-1_WORD\":\"나\", \"+1_WORD\":\"사\", \"+2_WORD\":\"과\" },\n",
        "    { \"BOS\":False, \"EOS\":False, \"WORD\":\"사\", \"IS_DIGIT\":False, \"-2_WORD\":\"나\", \"-1_WORD\":\"는\", \"+1_WORD\":\"과\", \"+2_WORD\":\"가\" }, ... ],\n",
        "    \n",
        "    [ ... ],\n",
        "    \n",
        "    ...\n",
        "    \n",
        "    ]\n",
        "    \n",
        "    train_y -> [\n",
        "    \n",
        "    [ \"B\", \"I\", \"B\", \"I\", \"I\", \"B\", \"I\" ],\n",
        "    \n",
        "    [ ... ],\n",
        "    \n",
        "    ...\n",
        "    \n",
        "    \n",
        "    ]\n",
        "\n",
        "</pre>"
      ]
    },
    {
      "cell_type": "code",
      "metadata": {
        "id": "odbrhxSKStT-",
        "colab_type": "code",
        "outputId": "2180b60e-62f8-48e7-b416-8c17ed110424",
        "colab": {
          "base_uri": "https://localhost:8080/",
          "height": 143
        }
      },
      "source": [
        "crf = sklearn_crfsuite.CRF(\n",
        "        algorithm='lbfgs',\n",
        "        c1=0.1,\n",
        "        c2=0.1,\n",
        "        max_iterations=100,\n",
        "        all_possible_transitions=True\n",
        "    )\n",
        "crf.fit(train_x, train_y)"
      ],
      "execution_count": 12,
      "outputs": [
        {
          "output_type": "execute_result",
          "data": {
            "text/plain": [
              "CRF(algorithm='lbfgs', all_possible_states=None, all_possible_transitions=True,\n",
              "    averaging=None, c=None, c1=0.1, c2=0.1, calibration_candidates=None,\n",
              "    calibration_eta=None, calibration_max_trials=None, calibration_rate=None,\n",
              "    calibration_samples=None, delta=None, epsilon=None, error_sensitive=None,\n",
              "    gamma=None, keep_tempfiles=None, linesearch=None, max_iterations=100,\n",
              "    max_linesearch=None, min_freq=None, model_filename=None, num_memories=None,\n",
              "    pa_type=None, period=None, trainer_cls=None, variance=None, verbose=False)"
            ]
          },
          "metadata": {
            "tags": []
          },
          "execution_count": 12
        }
      ]
    },
    {
      "cell_type": "markdown",
      "metadata": {
        "id": "qYwRX9Vdn5-D",
        "colab_type": "text"
      },
      "source": [
        "<h2> 1. train_x, train_y를 이용하여 crf 모델 학습 </h2>"
      ]
    },
    {
      "cell_type": "code",
      "metadata": {
        "id": "hgIPGK--SzmA",
        "colab_type": "code",
        "outputId": "4a8dd39b-f8df-450c-ca46-359ad42463ae",
        "colab": {
          "base_uri": "https://localhost:8080/",
          "height": 649
        }
      },
      "source": [
        "def makeString(x, y):\n",
        "  test_datas_str = \"\"\n",
        "  for index, eumjeol_sequence in enumerate(x):\n",
        "    if y[index] == 'B':\n",
        "      test_datas_str += \" \"\n",
        "    test_datas_str += str(eumjeol_sequence)\n",
        "  print(test_datas_str)\n",
        "  \n",
        "\n",
        "# show_predict_result 함수 구현하기\n",
        "def show_predict_result(test_datas, pred_y):\n",
        "  for index, x in enumerate(test_datas):\n",
        "    y = pred_y[index]\n",
        "    print(\"정답 문장 :\",end='')\n",
        "    makeString(x[0], x[1])\n",
        "    print(\"출력 문장 :\",end='')\n",
        "    makeString(x[0], y)\n",
        "    print()\n",
        "    \n",
        "labels = list(crf.classes_)\n",
        "pred_y = crf.predict(test_x)\n",
        "\n",
        "print(\"Accuracy score : \" + str(metrics.flat_accuracy_score(test_y, pred_y)))\n",
        "print()\n",
        "\n",
        "print(\"10개의 데이터에 대한 모델 출력과 실제 정답 비교\")\n",
        "print()\n",
        "\n",
        "show_predict_result(test_datas[:10], pred_y[:10])"
      ],
      "execution_count": 26,
      "outputs": [
        {
          "output_type": "stream",
          "text": [
            "Accuracy score : 0.9000381533765738\n",
            "\n",
            "10개의 데이터에 대한 모델 출력과 실제 정답 비교\n",
            "\n",
            "정답 문장 : 1914- 18년의 전쟁은 인류를 통합시킨 최초의 공통분모였다.\n",
            "출력 문장 : 1914-18년의 전쟁은 인류를통 합시킨 최초의 공통분 모였다.\n",
            "\n",
            "정답 문장 : 하지만 이 전쟁은 죽음을 통해 인류를 통합시켰다.\n",
            "출력 문장 : 하지만이 전쟁은 죽음을 통해 인류를통 합시켰다.\n",
            "\n",
            "정답 문장 : 사라예보에서 한 세르비아인이 쏜 총 한발이 합스부르크가의 계승자를 죽였다.\n",
            "출력 문장 : 사라 예보에서 한 세르 비아인이 쏜총 한발이 합스부르크가의 계승 자를 죽였다.\n",
            "\n",
            "정답 문장 : 이 암살행위는 국지적인 민족주의들과 세계적인 제국주의들이 충돌하는 분쟁지역에서 저질러졌다.\n",
            "출력 문장 : 이암 살행 위는 국지적인 민족주의 들과 세계적인 제국주의 들이 충돌하는 분쟁 지역에서 저질러졌다.\n",
            "\n",
            "정답 문장 : 오토만제국의 점진적인 해체는 민족주의의 독기를 발산하는 동시에 오스트리아, 헝가리와 독일, 영국, 프랑스의 탐욕을 자극했다.\n",
            "출력 문장 : 오토만 제국의 점진 적인 해체는 민족주의의 독기를 발산하는 동시에 오스트리아, 헝가리와 독일, 영국, 프랑스의 탐욕을 자극했다.\n",
            "\n",
            "정답 문장 : 이렇게 해서 발칸 반도의 한 외진 장소에서 벌어진 국지적인 테러 행위는 일련의 긴박한 반응을 불러 일으키면서 전 유럽에 영향을 미쳤을 뿐만 아니라 이번에는 아시아와 아프리카 식민지들, 일본, 그리고 이어서 미국과 멕시코까지 끌어들였다.\n",
            "출력 문장 : 이렇게 해서 발칸 반도의 한외진 장소에서 벌어 진국지 적인테러행 위는 일련의 긴박한 반응을 불러일으키면서 전 유럽에 영향을 미쳤을 뿐만 아니라이 번에는 아시아와 아프리카 식민지들, 일본, 그리고 이어서 미국과 멕시코까지 끌어들였다.\n",
            "\n",
            "정답 문장 : 전쟁의 물결이 지구상의 모든 대양으로 밀려드는 동안 캐나다인들과 미국인들, 오스트레일리아인들, 세네갈인들, 알제리인들, 모로코인들, 안남(安南)인들은 연합군 깃발을 휘날리며 유럽전선에서 싸웠다.\n",
            "출력 문장 : 전쟁의 물결이 지구상의 모든 대양으로 밀려드는 동안 캐나 다인들과 미국인들, 오스트레 일리 아인들, 세네 갈인들, 알 제리인들, 모로 코인들, 안 남(安南)인들은 연합군 깃발을 휘날리며 유럽 전선에서 싸웠다.\n",
            "\n",
            "정답 문장 : 앞서 살펴본 것처럼, 세계대전의 원인이 된 것은 대립관계에 있던 유럽 제국주의의 구심적 회귀였다.\n",
            "출력 문장 : 앞서 살펴본 것처럼, 세계대 전의 원인이된 것은 대립 관계에 있던 유럽 제국주의 의구심적회 귀였다.\n",
            "\n",
            "정답 문장 : 그리고 세계대전을 촉발시킨 것은 주요 제국주의들과 소수 민족주의들 간의 상호작용이었다.\n",
            "출력 문장 : 그리고 세계대 전을 촉발시킨 것은 주요 제국주의 들과 소수 민족주의 들간의 상호작용이었다.\n",
            "\n",
            "정답 문장 : 또한 세계대전의 빌미를 제공한 것은 격화된 민족주의들이었다.\n",
            "출력 문장 : 또한 세계대전의 빌미를 제공한것은 격화 된 민족주의 들이었다.\n",
            "\n"
          ],
          "name": "stdout"
        }
      ]
    },
    {
      "cell_type": "markdown",
      "metadata": {
        "id": "07BbK76nuZVK",
        "colab_type": "text"
      },
      "source": [
        "<pre>\n",
        "<h2> 1. 학습한 모델을 test_x 데이터를 사용하여 평가 </h2>\n",
        "<h2> 2. 모델의 출력 값과 정답 값을 이용하여 음절만으로 구성된 완전한 문장으로 변형 </h2>\n",
        "  2.1 test_datas, pred_y 예시\n",
        "    test_datas = [\n",
        "    ( [\"나\", \"는\", \"사\", \"과\", \"가\", \"좋\", \"아\"], [\"B\", \"I\", \"B\", \"I\", \"I\", \"B\", \"I\"] ),\n",
        "    \n",
        "    ( ... ),\n",
        "    \n",
        "    ...\n",
        "    \n",
        "    ]\n",
        "    \n",
        "    pred_y = [\n",
        "    \n",
        "    [\"B\", \"B\", \"B\", \"I\", \"I\", \"I\", \"I\"],\n",
        "    \n",
        "    [ ... ],\n",
        "    \n",
        "    ...\n",
        "    \n",
        "    ]\n",
        "    \n",
        "    위의 문장을 기준으로한 변형 예시\n",
        "    \n",
        "    \"나\", \"는\", \"사\", \"과\", \"가\", \"좋\", \"아\" -> 나는 사과가 좋아 (정답 기준으로 변형)\n",
        "    \"나\", \"는\", \"사\", \"과\", \"가\", \"좋\", \"아\" -> 나 는 사과가좋아 (모델 출력 기준으로 변형)\n",
        "  \n",
        "  2.2 최종 출력 예시\n",
        "  \n",
        "    정답 문장 : 1914- 18년의 전쟁은 인류를 통합시킨 최초의 공통분모였다.\n",
        "    출력 문장 : 19 14- 18년의 전쟁은 인류를 통합시킨 최초의 공통 분모였다.\n",
        "\n",
        "    정답 문장 : 하지만 이 전쟁은 죽음을 통해 인류를 통합시켰다.\n",
        "    출력 문장 : 하지만이 전쟁은 죽음을 통해 인류를 통합시켰다.\n",
        "\n",
        "    정답 문장 : 사라예보에서 한 세르비아인이 쏜 총 한발이 합스부르크가의 계승자를 죽였다.\n",
        "    출력 문장 : 사라 예보에서 한세르비아인이 쏜총한 발이 합스부르크가의 계승자를 죽였다.\n",
        "    \n",
        "    ...\n",
        "  \n",
        "  \n",
        "</pre>\n"
      ]
    },
    {
      "cell_type": "code",
      "metadata": {
        "id": "8AhEpssxTBzm",
        "colab_type": "code",
        "colab": {}
      },
      "source": [
        ""
      ],
      "execution_count": 0,
      "outputs": []
    }
  ]
}