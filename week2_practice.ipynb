{
  "nbformat": 4,
  "nbformat_minor": 0,
  "metadata": {
    "colab": {
      "name": "week2.ipynb",
      "provenance": [],
      "include_colab_link": true
    },
    "kernelspec": {
      "name": "python3",
      "display_name": "Python 3"
    }
  },
  "cells": [
    {
      "cell_type": "markdown",
      "metadata": {
        "id": "view-in-github",
        "colab_type": "text"
      },
      "source": [
        "<a href=\"https://colab.research.google.com/github/sudht/NLP/blob/master/week2.ipynb\" target=\"_parent\"><img src=\"https://colab.research.google.com/assets/colab-badge.svg\" alt=\"Open In Colab\"/></a>"
      ]
    },
    {
      "cell_type": "code",
      "metadata": {
        "id": "N9z_ULuyQ9MX",
        "colab_type": "code",
        "colab": {}
      },
      "source": [
        ""
      ],
      "execution_count": 0,
      "outputs": []
    },
    {
      "cell_type": "code",
      "metadata": {
        "id": "zfrA5GBxRFNc",
        "colab_type": "code",
        "outputId": "110db23e-1c64-4850-af22-0cd782df2440",
        "colab": {
          "base_uri": "https://localhost:8080/",
          "height": 35
        }
      },
      "source": [
        "from google.colab import drive\n",
        "drive.mount('/gdrive')"
      ],
      "execution_count": 0,
      "outputs": [
        {
          "output_type": "stream",
          "text": [
            "Drive already mounted at /gdrive; to attempt to forcibly remount, call drive.mount(\"/gdrive\", force_remount=True).\n"
          ],
          "name": "stdout"
        }
      ]
    },
    {
      "cell_type": "code",
      "metadata": {
        "id": "C5eZG05YRFM6",
        "colab_type": "code",
        "colab": {}
      },
      "source": [
        "with open('/gdrive/My Drive/foo.txt', 'w') as f:\n",
        "  f.write('Hello Google Drive!')\n",
        "!cat '/gdrive/My Drive/foo.txt'"
      ],
      "execution_count": 0,
      "outputs": []
    },
    {
      "cell_type": "code",
      "metadata": {
        "id": "Z8WsY3PlRWmp",
        "colab_type": "code",
        "outputId": "3dd04d26-3c29-4e2b-c0ee-d3bd038b521e",
        "colab": {
          "base_uri": "https://localhost:8080/",
          "height": 467
        }
      },
      "source": [
        "f = open('/gdrive/My Drive/colab/week2/Article.txt', 'r')\n",
        "lines = f.readlines()\n",
        "f.close()\n",
        "\n",
        "number = 0\n",
        "for line in lines:\n",
        "  print(str(number) + ' ' +line)\n",
        "  number = number + 1"
      ],
      "execution_count": 0,
      "outputs": [
        {
          "output_type": "stream",
          "text": [
            "0 손흥민이 쓴 또 다른 새 역사, '월드 베스트11' 후보\n",
            "\n",
            "1 [스포츠한국 김명석 기자] 한국축구는 물론 아시아축구 역사를 거듭 새로 써 내려가고 있는 손흥민(27·토트넘 홋스퍼)이 또 하나의 새 역사를 썼다.\n",
            "\n",
            "2 손흥민은 국제축구선수협회(FIFPro)가 선정하는 월드 베스트11 후보에 아시아 선수로는 처음으로 이름을 올렸다.\n",
            "\n",
            "3 월드 베스트11에 선정된 것은 아니지만, 지금까지 아시아 선수가 후보에 이름을 올렸던 적이 단 한 번도 없었다는 점에서 입후보 자체만으로도 적잖은 의미를 갖게 됐다.\n",
            "\n",
            "4 손흥민은 15명만 이름을 올린 공격수 부문에 당당히 이름을 올렸다.\n",
            "\n",
            "5 리오넬 메시(FC바르셀로나)와 크리스티아누 호날두(유벤투스)를 비롯해 해리 케인(토트넘) 모하메드 살라(리버풀) 네이마르(파리생제르망) 등 내로라하는 전 세계 슈퍼스타들과 어깨를 나란히 한 것이다.\n",
            "\n",
            "6 손흥민은 지난 시즌 토트넘 소속으로 51경기에 출전해 20골을 넣었고, 이 과정에서 유럽축구연맹(UEFA) 챔피언스리그 결승 무대도 누볐다.\n",
            "\n",
            "7 뿐만 아니라 축구 국가대표팀에서도 주장이자 명실상부한 에이스로 활약하며 한국축구의 중심에 서 있다.\n",
            "\n",
            "8 손흥민은 아시아 선수로는 최초로 잉글랜드 프로축구 프리미어리그(EPL) 이달의 선수상을 수상했고, UEFA 챔피언스리그 아시아 선수 최다골(12골)을 기록하는 등 아시아축구 역사를 거듭 새로 써 내려가고 있다.\n",
            "\n",
            "9 최근엔 아시아체육기자연맹이 선정한 초대 올해의 아시아 선수의 영예를 안는 등 명실상부한 아시아 대표선수의 입지를 다지고 있다.\n",
            "\n",
            "10 한편 월드 베스트11 미드필더 부문 후보에는 루카 모드리치(레알 마드리드)와 케빈 데 브라위너(맨체스터 시티) 크리스티안 에릭센(토트넘) 폴 포그바(맨체스터 유나이티드) 등이 이름을 올렸다.\n",
            "\n",
            "11 버질 반 다이크(리버풀)와 세르히오 라모스(레알 마드리드) 다니 알베스(상 파울루) 등은 수비수 후보에, 알리송 베커(리버풀)과 다비드 데 헤아(맨유) 등은 골키퍼 후보에 각각 선정됐다.\n",
            "\n",
            "12 월드 베스트11은 4-3-3 전형을 토대로 전 세계 프로축구 선수들의 투표를 통해 결정된다.\n"
          ],
          "name": "stdout"
        }
      ]
    },
    {
      "cell_type": "code",
      "metadata": {
        "id": "uUkTkh3TSZxd",
        "colab_type": "code",
        "outputId": "c55b8f99-3ece-49a3-860c-024051aaf050",
        "colab": {
          "base_uri": "https://localhost:8080/",
          "height": 467
        }
      },
      "source": [
        "for line in lines:\n",
        "  line = line.replace('손흥민','호날두')\n",
        "  print(line)"
      ],
      "execution_count": 0,
      "outputs": [
        {
          "output_type": "stream",
          "text": [
            "호날두이 쓴 또 다른 새 역사, '월드 베스트11' 후보\n",
            "\n",
            "[스포츠한국 김명석 기자] 한국축구는 물론 아시아축구 역사를 거듭 새로 써 내려가고 있는 호날두(27·토트넘 홋스퍼)이 또 하나의 새 역사를 썼다.\n",
            "\n",
            "호날두은 국제축구선수협회(FIFPro)가 선정하는 월드 베스트11 후보에 아시아 선수로는 처음으로 이름을 올렸다.\n",
            "\n",
            "월드 베스트11에 선정된 것은 아니지만, 지금까지 아시아 선수가 후보에 이름을 올렸던 적이 단 한 번도 없었다는 점에서 입후보 자체만으로도 적잖은 의미를 갖게 됐다.\n",
            "\n",
            "호날두은 15명만 이름을 올린 공격수 부문에 당당히 이름을 올렸다.\n",
            "\n",
            "리오넬 메시(FC바르셀로나)와 크리스티아누 호날두(유벤투스)를 비롯해 해리 케인(토트넘) 모하메드 살라(리버풀) 네이마르(파리생제르망) 등 내로라하는 전 세계 슈퍼스타들과 어깨를 나란히 한 것이다.\n",
            "\n",
            "호날두은 지난 시즌 토트넘 소속으로 51경기에 출전해 20골을 넣었고, 이 과정에서 유럽축구연맹(UEFA) 챔피언스리그 결승 무대도 누볐다.\n",
            "\n",
            "뿐만 아니라 축구 국가대표팀에서도 주장이자 명실상부한 에이스로 활약하며 한국축구의 중심에 서 있다.\n",
            "\n",
            "호날두은 아시아 선수로는 최초로 잉글랜드 프로축구 프리미어리그(EPL) 이달의 선수상을 수상했고, UEFA 챔피언스리그 아시아 선수 최다골(12골)을 기록하는 등 아시아축구 역사를 거듭 새로 써 내려가고 있다.\n",
            "\n",
            "최근엔 아시아체육기자연맹이 선정한 초대 올해의 아시아 선수의 영예를 안는 등 명실상부한 아시아 대표선수의 입지를 다지고 있다.\n",
            "\n",
            "한편 월드 베스트11 미드필더 부문 후보에는 루카 모드리치(레알 마드리드)와 케빈 데 브라위너(맨체스터 시티) 크리스티안 에릭센(토트넘) 폴 포그바(맨체스터 유나이티드) 등이 이름을 올렸다.\n",
            "\n",
            "버질 반 다이크(리버풀)와 세르히오 라모스(레알 마드리드) 다니 알베스(상 파울루) 등은 수비수 후보에, 알리송 베커(리버풀)과 다비드 데 헤아(맨유) 등은 골키퍼 후보에 각각 선정됐다.\n",
            "\n",
            "월드 베스트11은 4-3-3 전형을 토대로 전 세계 프로축구 선수들의 투표를 통해 결정된다.\n"
          ],
          "name": "stdout"
        }
      ]
    },
    {
      "cell_type": "code",
      "metadata": {
        "id": "yOPNCmr4S5p2",
        "colab_type": "code",
        "outputId": "1c9b1f65-f6ab-4b7d-8514-80810287322e",
        "colab": {
          "base_uri": "https://localhost:8080/",
          "height": 701
        }
      },
      "source": [
        "findword = '손흥민'\n",
        "\n",
        "for line in lines:\n",
        "  count = 0\n",
        "  print(line)\n",
        "  line = line.replace('\\n','')\n",
        "  count = line.count(findword)\n",
        "  print(findword + ' count : ' + str(count))"
      ],
      "execution_count": 0,
      "outputs": [
        {
          "output_type": "stream",
          "text": [
            "손흥민이 쓴 또 다른 새 역사, '월드 베스트11' 후보\n",
            "\n",
            "손흥민 count : 1\n",
            "[스포츠한국 김명석 기자] 한국축구는 물론 아시아축구 역사를 거듭 새로 써 내려가고 있는 손흥민(27·토트넘 홋스퍼)이 또 하나의 새 역사를 썼다.\n",
            "\n",
            "손흥민 count : 1\n",
            "손흥민은 국제축구선수협회(FIFPro)가 선정하는 월드 베스트11 후보에 아시아 선수로는 처음으로 이름을 올렸다.\n",
            "\n",
            "손흥민 count : 1\n",
            "월드 베스트11에 선정된 것은 아니지만, 지금까지 아시아 선수가 후보에 이름을 올렸던 적이 단 한 번도 없었다는 점에서 입후보 자체만으로도 적잖은 의미를 갖게 됐다.\n",
            "\n",
            "손흥민 count : 0\n",
            "손흥민은 15명만 이름을 올린 공격수 부문에 당당히 이름을 올렸다.\n",
            "\n",
            "손흥민 count : 1\n",
            "리오넬 메시(FC바르셀로나)와 크리스티아누 호날두(유벤투스)를 비롯해 해리 케인(토트넘) 모하메드 살라(리버풀) 네이마르(파리생제르망) 등 내로라하는 전 세계 슈퍼스타들과 어깨를 나란히 한 것이다.\n",
            "\n",
            "손흥민 count : 0\n",
            "손흥민은 지난 시즌 토트넘 소속으로 51경기에 출전해 20골을 넣었고, 이 과정에서 유럽축구연맹(UEFA) 챔피언스리그 결승 무대도 누볐다.\n",
            "\n",
            "손흥민 count : 1\n",
            "뿐만 아니라 축구 국가대표팀에서도 주장이자 명실상부한 에이스로 활약하며 한국축구의 중심에 서 있다.\n",
            "\n",
            "손흥민 count : 0\n",
            "손흥민은 아시아 선수로는 최초로 잉글랜드 프로축구 프리미어리그(EPL) 이달의 선수상을 수상했고, UEFA 챔피언스리그 아시아 선수 최다골(12골)을 기록하는 등 아시아축구 역사를 거듭 새로 써 내려가고 있다.\n",
            "\n",
            "손흥민 count : 1\n",
            "최근엔 아시아체육기자연맹이 선정한 초대 올해의 아시아 선수의 영예를 안는 등 명실상부한 아시아 대표선수의 입지를 다지고 있다.\n",
            "\n",
            "손흥민 count : 0\n",
            "한편 월드 베스트11 미드필더 부문 후보에는 루카 모드리치(레알 마드리드)와 케빈 데 브라위너(맨체스터 시티) 크리스티안 에릭센(토트넘) 폴 포그바(맨체스터 유나이티드) 등이 이름을 올렸다.\n",
            "\n",
            "손흥민 count : 0\n",
            "버질 반 다이크(리버풀)와 세르히오 라모스(레알 마드리드) 다니 알베스(상 파울루) 등은 수비수 후보에, 알리송 베커(리버풀)과 다비드 데 헤아(맨유) 등은 골키퍼 후보에 각각 선정됐다.\n",
            "\n",
            "손흥민 count : 0\n",
            "월드 베스트11은 4-3-3 전형을 토대로 전 세계 프로축구 선수들의 투표를 통해 결정된다.\n",
            "손흥민 count : 0\n"
          ],
          "name": "stdout"
        }
      ]
    },
    {
      "cell_type": "code",
      "metadata": {
        "id": "QlsfqEIhVDu-",
        "colab_type": "code",
        "outputId": "d0355357-96ad-4022-8dc7-97709c2fa57e",
        "colab": {
          "base_uri": "https://localhost:8080/",
          "height": 719
        }
      },
      "source": [
        "def findWord(line, word):\n",
        "  count = 0\n",
        "  start = 0\n",
        "  tmp = 0\n",
        "  while(1):\n",
        "    start = line.find(word, tmp)\n",
        "    if start == -1:\n",
        "      return count\n",
        "    else:\n",
        "      tmp = start+1\n",
        "      count = count+1\n",
        "\n",
        "findword = '축구'\n",
        "\n",
        "for line in lines:\n",
        "  count = 0\n",
        "  line = line.replace('\\n','')\n",
        "  print(line)\n",
        "  count = findWord(line, findword)\n",
        "  print(findword + ' count : ' + str(count) + '\\n')"
      ],
      "execution_count": 0,
      "outputs": [
        {
          "output_type": "stream",
          "text": [
            "손흥민이 쓴 또 다른 새 역사, '월드 베스트11' 후보\n",
            "축구 count : 0\n",
            "\n",
            "[스포츠한국 김명석 기자] 한국축구는 물론 아시아축구 역사를 거듭 새로 써 내려가고 있는 손흥민(27·토트넘 홋스퍼)이 또 하나의 새 역사를 썼다.\n",
            "축구 count : 2\n",
            "\n",
            "손흥민은 국제축구선수협회(FIFPro)가 선정하는 월드 베스트11 후보에 아시아 선수로는 처음으로 이름을 올렸다.\n",
            "축구 count : 1\n",
            "\n",
            "월드 베스트11에 선정된 것은 아니지만, 지금까지 아시아 선수가 후보에 이름을 올렸던 적이 단 한 번도 없었다는 점에서 입후보 자체만으로도 적잖은 의미를 갖게 됐다.\n",
            "축구 count : 0\n",
            "\n",
            "손흥민은 15명만 이름을 올린 공격수 부문에 당당히 이름을 올렸다.\n",
            "축구 count : 0\n",
            "\n",
            "리오넬 메시(FC바르셀로나)와 크리스티아누 호날두(유벤투스)를 비롯해 해리 케인(토트넘) 모하메드 살라(리버풀) 네이마르(파리생제르망) 등 내로라하는 전 세계 슈퍼스타들과 어깨를 나란히 한 것이다.\n",
            "축구 count : 0\n",
            "\n",
            "손흥민은 지난 시즌 토트넘 소속으로 51경기에 출전해 20골을 넣었고, 이 과정에서 유럽축구연맹(UEFA) 챔피언스리그 결승 무대도 누볐다.\n",
            "축구 count : 1\n",
            "\n",
            "뿐만 아니라 축구 국가대표팀에서도 주장이자 명실상부한 에이스로 활약하며 한국축구의 중심에 서 있다.\n",
            "축구 count : 2\n",
            "\n",
            "손흥민은 아시아 선수로는 최초로 잉글랜드 프로축구 프리미어리그(EPL) 이달의 선수상을 수상했고, UEFA 챔피언스리그 아시아 선수 최다골(12골)을 기록하는 등 아시아축구 역사를 거듭 새로 써 내려가고 있다.\n",
            "축구 count : 2\n",
            "\n",
            "최근엔 아시아체육기자연맹이 선정한 초대 올해의 아시아 선수의 영예를 안는 등 명실상부한 아시아 대표선수의 입지를 다지고 있다.\n",
            "축구 count : 0\n",
            "\n",
            "한편 월드 베스트11 미드필더 부문 후보에는 루카 모드리치(레알 마드리드)와 케빈 데 브라위너(맨체스터 시티) 크리스티안 에릭센(토트넘) 폴 포그바(맨체스터 유나이티드) 등이 이름을 올렸다.\n",
            "축구 count : 0\n",
            "\n",
            "버질 반 다이크(리버풀)와 세르히오 라모스(레알 마드리드) 다니 알베스(상 파울루) 등은 수비수 후보에, 알리송 베커(리버풀)과 다비드 데 헤아(맨유) 등은 골키퍼 후보에 각각 선정됐다.\n",
            "축구 count : 0\n",
            "\n",
            "월드 베스트11은 4-3-3 전형을 토대로 전 세계 프로축구 선수들의 투표를 통해 결정된다.\n",
            "축구 count : 1\n",
            "\n"
          ],
          "name": "stdout"
        }
      ]
    },
    {
      "cell_type": "code",
      "metadata": {
        "id": "_iIi_QJ6WkEB",
        "colab_type": "code",
        "colab": {}
      },
      "source": [
        ""
      ],
      "execution_count": 0,
      "outputs": []
    }
  ]
}
